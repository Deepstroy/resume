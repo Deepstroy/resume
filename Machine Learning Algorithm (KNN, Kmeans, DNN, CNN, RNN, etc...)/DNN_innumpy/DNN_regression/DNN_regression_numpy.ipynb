{
  "nbformat": 4,
  "nbformat_minor": 0,
  "metadata": {
    "colab": {
      "name": "DNN_regression_numpy.ipynb",
      "version": "0.3.2",
      "provenance": [],
      "collapsed_sections": []
    },
    "kernelspec": {
      "name": "python3",
      "display_name": "Python 3"
    }
  },
  "cells": [
    {
      "cell_type": "markdown",
      "metadata": {
        "id": "BTz5Unn9ipM0",
        "colab_type": "text"
      },
      "source": [
        "# DNN(Deep Neural Network) in numpy/python class"
      ]
    },
    {
      "cell_type": "markdown",
      "metadata": {
        "id": "Wo1WyiPxjG73",
        "colab_type": "text"
      },
      "source": [
        "- DNN을 python class를 통해 구조화 하고, numpy를 통해 연산한다.\n",
        "- ★Key point : <br> 1. Gradient Descent와 Back propagation을 위한 미분식을 사전에 도출 <br>  2. 도출된 식을 토대로 class method에서 사전에 구현한다. "
      ]
    },
    {
      "cell_type": "code",
      "metadata": {
        "id": "BE2yzXIvWuvL",
        "colab_type": "code",
        "colab": {}
      },
      "source": [
        "%matplotlib inline\n",
        "\n",
        "import numpy as np\n",
        "import pandas as pd\n",
        "import tensorflow as tf \n",
        "import matplotlib.pyplot as plt\n",
        "from sklearn.datasets import load_boston\n",
        "import tensorflow as tf"
      ],
      "execution_count": 0,
      "outputs": []
    },
    {
      "cell_type": "markdown",
      "metadata": {
        "id": "zsJP9bhPk1og",
        "colab_type": "text"
      },
      "source": [
        "## Boston house prices 데이터 로드\n",
        "\n",
        "1.   가장 먼저 data의 구성과 분포를 알아본다.\n",
        "2.   Min value와 Max value의 편차가 큰것을 확인할 수 있다.\n",
        "-> Back propagation시 weight update의 불균형을 초래하여 모델 학습에 방해가 되는 주요 요인.\n"
      ]
    },
    {
      "cell_type": "code",
      "metadata": {
        "id": "PODx9kiTY2vv",
        "colab_type": "code",
        "outputId": "32a44525-bee9-4c3b-b9dc-6878180dffc2",
        "colab": {
          "base_uri": "https://localhost:8080/",
          "height": 314
        }
      },
      "source": [
        "# 0. 데이터 분포 확인\n",
        "boston = load_boston()\n",
        "boston_df = pd.DataFrame(boston['data'],\n",
        "                         columns=boston['feature_names'])\n",
        "boston_df['house_price'] = boston['target']\n",
        "boston_df.head(10)\n",
        "boston_df.describe()"
      ],
      "execution_count": 2,
      "outputs": [
        {
          "output_type": "execute_result",
          "data": {
            "text/html": [
              "<div>\n",
              "<style scoped>\n",
              "    .dataframe tbody tr th:only-of-type {\n",
              "        vertical-align: middle;\n",
              "    }\n",
              "\n",
              "    .dataframe tbody tr th {\n",
              "        vertical-align: top;\n",
              "    }\n",
              "\n",
              "    .dataframe thead th {\n",
              "        text-align: right;\n",
              "    }\n",
              "</style>\n",
              "<table border=\"1\" class=\"dataframe\">\n",
              "  <thead>\n",
              "    <tr style=\"text-align: right;\">\n",
              "      <th></th>\n",
              "      <th>CRIM</th>\n",
              "      <th>ZN</th>\n",
              "      <th>INDUS</th>\n",
              "      <th>CHAS</th>\n",
              "      <th>NOX</th>\n",
              "      <th>RM</th>\n",
              "      <th>AGE</th>\n",
              "      <th>DIS</th>\n",
              "      <th>RAD</th>\n",
              "      <th>TAX</th>\n",
              "      <th>PTRATIO</th>\n",
              "      <th>B</th>\n",
              "      <th>LSTAT</th>\n",
              "      <th>house_price</th>\n",
              "    </tr>\n",
              "  </thead>\n",
              "  <tbody>\n",
              "    <tr>\n",
              "      <th>count</th>\n",
              "      <td>506.000000</td>\n",
              "      <td>506.000000</td>\n",
              "      <td>506.000000</td>\n",
              "      <td>506.000000</td>\n",
              "      <td>506.000000</td>\n",
              "      <td>506.000000</td>\n",
              "      <td>506.000000</td>\n",
              "      <td>506.000000</td>\n",
              "      <td>506.000000</td>\n",
              "      <td>506.000000</td>\n",
              "      <td>506.000000</td>\n",
              "      <td>506.000000</td>\n",
              "      <td>506.000000</td>\n",
              "      <td>506.000000</td>\n",
              "    </tr>\n",
              "    <tr>\n",
              "      <th>mean</th>\n",
              "      <td>3.613524</td>\n",
              "      <td>11.363636</td>\n",
              "      <td>11.136779</td>\n",
              "      <td>0.069170</td>\n",
              "      <td>0.554695</td>\n",
              "      <td>6.284634</td>\n",
              "      <td>68.574901</td>\n",
              "      <td>3.795043</td>\n",
              "      <td>9.549407</td>\n",
              "      <td>408.237154</td>\n",
              "      <td>18.455534</td>\n",
              "      <td>356.674032</td>\n",
              "      <td>12.653063</td>\n",
              "      <td>22.532806</td>\n",
              "    </tr>\n",
              "    <tr>\n",
              "      <th>std</th>\n",
              "      <td>8.601545</td>\n",
              "      <td>23.322453</td>\n",
              "      <td>6.860353</td>\n",
              "      <td>0.253994</td>\n",
              "      <td>0.115878</td>\n",
              "      <td>0.702617</td>\n",
              "      <td>28.148861</td>\n",
              "      <td>2.105710</td>\n",
              "      <td>8.707259</td>\n",
              "      <td>168.537116</td>\n",
              "      <td>2.164946</td>\n",
              "      <td>91.294864</td>\n",
              "      <td>7.141062</td>\n",
              "      <td>9.197104</td>\n",
              "    </tr>\n",
              "    <tr>\n",
              "      <th>min</th>\n",
              "      <td>0.006320</td>\n",
              "      <td>0.000000</td>\n",
              "      <td>0.460000</td>\n",
              "      <td>0.000000</td>\n",
              "      <td>0.385000</td>\n",
              "      <td>3.561000</td>\n",
              "      <td>2.900000</td>\n",
              "      <td>1.129600</td>\n",
              "      <td>1.000000</td>\n",
              "      <td>187.000000</td>\n",
              "      <td>12.600000</td>\n",
              "      <td>0.320000</td>\n",
              "      <td>1.730000</td>\n",
              "      <td>5.000000</td>\n",
              "    </tr>\n",
              "    <tr>\n",
              "      <th>25%</th>\n",
              "      <td>0.082045</td>\n",
              "      <td>0.000000</td>\n",
              "      <td>5.190000</td>\n",
              "      <td>0.000000</td>\n",
              "      <td>0.449000</td>\n",
              "      <td>5.885500</td>\n",
              "      <td>45.025000</td>\n",
              "      <td>2.100175</td>\n",
              "      <td>4.000000</td>\n",
              "      <td>279.000000</td>\n",
              "      <td>17.400000</td>\n",
              "      <td>375.377500</td>\n",
              "      <td>6.950000</td>\n",
              "      <td>17.025000</td>\n",
              "    </tr>\n",
              "    <tr>\n",
              "      <th>50%</th>\n",
              "      <td>0.256510</td>\n",
              "      <td>0.000000</td>\n",
              "      <td>9.690000</td>\n",
              "      <td>0.000000</td>\n",
              "      <td>0.538000</td>\n",
              "      <td>6.208500</td>\n",
              "      <td>77.500000</td>\n",
              "      <td>3.207450</td>\n",
              "      <td>5.000000</td>\n",
              "      <td>330.000000</td>\n",
              "      <td>19.050000</td>\n",
              "      <td>391.440000</td>\n",
              "      <td>11.360000</td>\n",
              "      <td>21.200000</td>\n",
              "    </tr>\n",
              "    <tr>\n",
              "      <th>75%</th>\n",
              "      <td>3.677083</td>\n",
              "      <td>12.500000</td>\n",
              "      <td>18.100000</td>\n",
              "      <td>0.000000</td>\n",
              "      <td>0.624000</td>\n",
              "      <td>6.623500</td>\n",
              "      <td>94.075000</td>\n",
              "      <td>5.188425</td>\n",
              "      <td>24.000000</td>\n",
              "      <td>666.000000</td>\n",
              "      <td>20.200000</td>\n",
              "      <td>396.225000</td>\n",
              "      <td>16.955000</td>\n",
              "      <td>25.000000</td>\n",
              "    </tr>\n",
              "    <tr>\n",
              "      <th>max</th>\n",
              "      <td>88.976200</td>\n",
              "      <td>100.000000</td>\n",
              "      <td>27.740000</td>\n",
              "      <td>1.000000</td>\n",
              "      <td>0.871000</td>\n",
              "      <td>8.780000</td>\n",
              "      <td>100.000000</td>\n",
              "      <td>12.126500</td>\n",
              "      <td>24.000000</td>\n",
              "      <td>711.000000</td>\n",
              "      <td>22.000000</td>\n",
              "      <td>396.900000</td>\n",
              "      <td>37.970000</td>\n",
              "      <td>50.000000</td>\n",
              "    </tr>\n",
              "  </tbody>\n",
              "</table>\n",
              "</div>"
            ],
            "text/plain": [
              "             CRIM          ZN       INDUS  ...           B       LSTAT  house_price\n",
              "count  506.000000  506.000000  506.000000  ...  506.000000  506.000000   506.000000\n",
              "mean     3.613524   11.363636   11.136779  ...  356.674032   12.653063    22.532806\n",
              "std      8.601545   23.322453    6.860353  ...   91.294864    7.141062     9.197104\n",
              "min      0.006320    0.000000    0.460000  ...    0.320000    1.730000     5.000000\n",
              "25%      0.082045    0.000000    5.190000  ...  375.377500    6.950000    17.025000\n",
              "50%      0.256510    0.000000    9.690000  ...  391.440000   11.360000    21.200000\n",
              "75%      3.677083   12.500000   18.100000  ...  396.225000   16.955000    25.000000\n",
              "max     88.976200  100.000000   27.740000  ...  396.900000   37.970000    50.000000\n",
              "\n",
              "[8 rows x 14 columns]"
            ]
          },
          "metadata": {
            "tags": []
          },
          "execution_count": 2
        }
      ]
    },
    {
      "cell_type": "markdown",
      "metadata": {
        "id": "86NWoj7smLNi",
        "colab_type": "text"
      },
      "source": [
        "## Normalization\n",
        "- Min-Max Normalization을 통해 데이터를 scaling한다"
      ]
    },
    {
      "cell_type": "code",
      "metadata": {
        "id": "urxbYeOUXgHi",
        "colab_type": "code",
        "colab": {}
      },
      "source": [
        "# 1.dataset nomalize수행 \n",
        "data = (boston_df - boston_df.min(axis=0)) / (boston_df.max(axis=0) - boston_df.min(axis=0))\n",
        "data = data.values\n",
        "# 정답과 label 분리\n",
        "xs = data[:,:-1]\n",
        "label = data[:,-1]"
      ],
      "execution_count": 0,
      "outputs": []
    },
    {
      "cell_type": "markdown",
      "metadata": {
        "id": "m9xEi9TLkrLw",
        "colab_type": "text"
      },
      "source": [
        "## Layer class"
      ]
    },
    {
      "cell_type": "code",
      "metadata": {
        "id": "R4xYQzf3m8AY",
        "colab_type": "code",
        "colab": {}
      },
      "source": [
        "class Layer:\n",
        "    def forward(self, x):\n",
        "        \"\"\"\n",
        "        해당 Operation의 순전파를 계산\n",
        "        \"\"\"\n",
        "        raise NotImplementedError\n",
        "        \n",
        "    def backward(self, grad):\n",
        "        \"\"\"\n",
        "        해당 Operation의 역전파를 계산\n",
        "        \"\"\"\n",
        "        raise NotImplementedError\n",
        "        \n",
        "    def update(self, learning_rate):\n",
        "        \"\"\"\n",
        "        해당 Layer에 Weight가 있다면,\n",
        "        w_old = w_new - learning_rate * dw\n",
        "        \"\"\"\n",
        "        pass"
      ],
      "execution_count": 0,
      "outputs": []
    },
    {
      "cell_type": "markdown",
      "metadata": {
        "id": "wJ3j-gQnnMJ8",
        "colab_type": "text"
      },
      "source": [
        "## Logit class"
      ]
    },
    {
      "cell_type": "code",
      "metadata": {
        "id": "BS42yN74m-pX",
        "colab_type": "code",
        "colab": {}
      },
      "source": [
        "class logit_layer(Layer) :\n",
        "    def __init__(self, w_size, b_size):\n",
        "        self.w = np.random.normal(loc= 0.0, scale=2/w_size[1]\n",
        "                                  , size = w_size)\n",
        "        self.b = np.zeros(shape = b_size)\n",
        "        self.b = np.reshape(self.b, (1,-1))\n",
        "         \n",
        "    def forward(self, x) :\n",
        "        self.x = x\n",
        "        z = np.matmul(self.x, self.w) \n",
        "        z = z + self.b\n",
        "        return z\n",
        "    \n",
        "    def backward(self, grad) :\n",
        "        # dz/dw **\n",
        "        self.del_w = np.matmul(grad.T, self.x) \n",
        "        # (2, d)*(d, 3)\n",
        "        self.del_b = np.mean(grad, axis =0) \n",
        "        # dz/dx **\n",
        "        self.del_a = np.matmul(grad, self.w.T)\n",
        "        return self.del_a\n",
        "        \n",
        "    def update(self, learning_rate) :\n",
        "        #print(\"w.shape : {}, del_w.shape : {}\".\\\n",
        "        # format(self.w.shape, self.del_w.shape))\n",
        "        self.w = self.w - (learning_rate * self.del_w.T)\n",
        "        self.b = self.b - (learning_rate * self.del_b)\n",
        "        pass"
      ],
      "execution_count": 0,
      "outputs": []
    },
    {
      "cell_type": "markdown",
      "metadata": {
        "id": "ZPlP9p_VncH8",
        "colab_type": "text"
      },
      "source": [
        "## Non-linear layer class (ReLU)"
      ]
    },
    {
      "cell_type": "code",
      "metadata": {
        "id": "lFru8iA4nBNm",
        "colab_type": "code",
        "colab": {}
      },
      "source": [
        "class relu_layer(Layer) :     \n",
        "    def forward(self, z) :\n",
        "        self.z = z\n",
        "        return np.maximum(self.z, 0)\n",
        "    \n",
        "    def backward(self,grad) :\n",
        "        return grad * np.where(self.z > 0  , 1, 0)"
      ],
      "execution_count": 0,
      "outputs": []
    },
    {
      "cell_type": "markdown",
      "metadata": {
        "id": "t2yfL0ilpS3s",
        "colab_type": "text"
      },
      "source": [
        "## MSE function with sigmoid(softmax)"
      ]
    },
    {
      "cell_type": "code",
      "metadata": {
        "id": "w-vEWAj-0fY_",
        "colab_type": "code",
        "colab": {}
      },
      "source": [
        "class mse_with_loss(Layer) :\n",
        "    def __init__(self, p) : \n",
        "        self.p = np.reshape(np.array(p), (-1,1)) \n",
        "\n",
        "    def forward(self, z): #z는 계산된값\n",
        "        self.z = z\n",
        "        self.loss = np.mean((self.z - self.p)**2, axis =0)\n",
        "        return self.loss\n",
        "\n",
        "    def backward(self, grad) : #dL/dz = (y_h - y)\n",
        "        #sig with CEE의 loss 계산 == MSE loss **\n",
        "        self.del_loss = (self.z - self.p)\n",
        "        self.del_loss = self.del_loss #**\n",
        "        return self.del_loss"
      ],
      "execution_count": 0,
      "outputs": []
    },
    {
      "cell_type": "markdown",
      "metadata": {
        "id": "9eNN0zuypjoA",
        "colab_type": "text"
      },
      "source": [
        "## Model build"
      ]
    },
    {
      "cell_type": "code",
      "metadata": {
        "id": "1w2V5OVxhFnu",
        "colab_type": "code",
        "outputId": "fc1d4b22-79c8-440b-9e88-c97eafd55498",
        "colab": {
          "base_uri": "https://localhost:8080/",
          "height": 1000
        }
      },
      "source": [
        "# Layer class instance 선언부\n",
        "logit1 = logit_layer([13,50], 50)\n",
        "relu1 = relu_layer()\n",
        "logit2 = logit_layer([50,50], 50)\n",
        "relu2 = relu_layer()\n",
        "logit3 = logit_layer([50,1],1)\n",
        "mse_with_loss_ = mse_with_loss(label)\n",
        "loss_list = []\n",
        "\n",
        "# Training\n",
        "for epoch in range(30000) :\n",
        "    z1 = logit1.forward(xs)\n",
        "    acti1 = relu1.forward(z1)\n",
        "    z2 = logit2.forward(acti1)\n",
        "    acti2 = relu2.forward(z2)\n",
        "    pred = logit3.forward(acti2)\n",
        "    loss_ = mse_with_loss_.forward(pred)\n",
        "    loss_list.append(loss_)\n",
        "    if epoch % 1000 == 0 :\n",
        "        print(\"epoch : {}\".format(epoch))\n",
        "        print(\"loss : {}\".format(loss_))\n",
        "        rmse = np.sqrt(np.mean((pred - mse_with_loss_.p)**2, axis = 0))\n",
        "        print(\"rmse : {}\".format(rmse))\n",
        "        print(\"========================\")\n",
        "    \n",
        "    del_loss = mse_with_loss_.backward(1)\n",
        "    del_logit3 = logit3.backward(del_loss)\n",
        "    del_acti2 = relu2.backward(del_logit3)\n",
        "    del_logit2 = logit2.backward(del_acti2)\n",
        "    del_acti1 = relu1.backward(del_logit2)\n",
        "    del_logit1 = logit1.backward(del_acti1)\n",
        "    \n",
        "    # Weight update using lr :0.0001\n",
        "    logit1.update(0.00001)\n",
        "    logit2.update(0.00001)\n",
        "    logit3.update(0.00001)\n",
        "\n"
      ],
      "execution_count": 8,
      "outputs": [
        {
          "output_type": "stream",
          "text": [
            "epoch : 0\n",
            "loss : [0.23814201]\n",
            "rmse : [0.48799796]\n",
            "========================\n",
            "epoch : 1000\n",
            "loss : [0.01086327]\n",
            "rmse : [0.104227]\n",
            "========================\n",
            "epoch : 2000\n",
            "loss : [0.00899546]\n",
            "rmse : [0.0948444]\n",
            "========================\n",
            "epoch : 3000\n",
            "loss : [0.00809832]\n",
            "rmse : [0.08999068]\n",
            "========================\n",
            "epoch : 4000\n",
            "loss : [0.00751905]\n",
            "rmse : [0.08671246]\n",
            "========================\n",
            "epoch : 5000\n",
            "loss : [0.00703663]\n",
            "rmse : [0.08388462]\n",
            "========================\n",
            "epoch : 6000\n",
            "loss : [0.00662149]\n",
            "rmse : [0.08137254]\n",
            "========================\n",
            "epoch : 7000\n",
            "loss : [0.00625917]\n",
            "rmse : [0.07911491]\n",
            "========================\n",
            "epoch : 8000\n",
            "loss : [0.0059186]\n",
            "rmse : [0.07693247]\n",
            "========================\n",
            "epoch : 9000\n",
            "loss : [0.00563716]\n",
            "rmse : [0.07508103]\n",
            "========================\n",
            "epoch : 10000\n",
            "loss : [0.00539515]\n",
            "rmse : [0.07345167]\n",
            "========================\n",
            "epoch : 11000\n",
            "loss : [0.00517567]\n",
            "rmse : [0.07194216]\n",
            "========================\n",
            "epoch : 12000\n",
            "loss : [0.00498041]\n",
            "rmse : [0.070572]\n",
            "========================\n",
            "epoch : 13000\n",
            "loss : [0.0048147]\n",
            "rmse : [0.06938806]\n",
            "========================\n",
            "epoch : 14000\n",
            "loss : [0.00465936]\n",
            "rmse : [0.06825953]\n",
            "========================\n",
            "epoch : 15000\n",
            "loss : [0.00452543]\n",
            "rmse : [0.06727129]\n",
            "========================\n",
            "epoch : 16000\n",
            "loss : [0.00440723]\n",
            "rmse : [0.06638695]\n",
            "========================\n",
            "epoch : 17000\n",
            "loss : [0.00430019]\n",
            "rmse : [0.06557585]\n",
            "========================\n",
            "epoch : 18000\n",
            "loss : [0.0042065]\n",
            "rmse : [0.06485753]\n",
            "========================\n",
            "epoch : 19000\n",
            "loss : [0.00412141]\n",
            "rmse : [0.06419819]\n",
            "========================\n",
            "epoch : 20000\n",
            "loss : [0.0040363]\n",
            "rmse : [0.06353189]\n",
            "========================\n",
            "epoch : 21000\n",
            "loss : [0.00395854]\n",
            "rmse : [0.0629169]\n",
            "========================\n",
            "epoch : 22000\n",
            "loss : [0.00389066]\n",
            "rmse : [0.06237517]\n",
            "========================\n",
            "epoch : 23000\n",
            "loss : [0.00382886]\n",
            "rmse : [0.06187782]\n",
            "========================\n",
            "epoch : 24000\n",
            "loss : [0.00376974]\n",
            "rmse : [0.06139821]\n",
            "========================\n",
            "epoch : 25000\n",
            "loss : [0.00371487]\n",
            "rmse : [0.06094977]\n",
            "========================\n",
            "epoch : 26000\n",
            "loss : [0.00366428]\n",
            "rmse : [0.06053332]\n",
            "========================\n",
            "epoch : 27000\n",
            "loss : [0.00361629]\n",
            "rmse : [0.06013559]\n",
            "========================\n",
            "epoch : 28000\n",
            "loss : [0.00357125]\n",
            "rmse : [0.05975991]\n",
            "========================\n",
            "epoch : 29000\n",
            "loss : [0.00353046]\n",
            "rmse : [0.05941768]\n",
            "========================\n"
          ],
          "name": "stdout"
        }
      ]
    },
    {
      "cell_type": "markdown",
      "metadata": {
        "id": "9FRI5-ruuED6",
        "colab_type": "text"
      },
      "source": [
        "## Label 대비 prediction value의 시각화\n",
        "- Label value와 선형적인 관계를 이루어 regression을 수행했음을 알 수 있다."
      ]
    },
    {
      "cell_type": "code",
      "metadata": {
        "id": "jBgN6Gag5aUV",
        "colab_type": "code",
        "outputId": "7b9cc9b7-49df-472d-8233-a5e9475efdf4",
        "colab": {
          "base_uri": "https://localhost:8080/",
          "height": 343
        }
      },
      "source": [
        "pred_ = np.reshape(pred, (-1,), )\n",
        "label_ = np.reshape(label, (-1)) \n",
        "\n",
        "fig = plt.figure(figsize=(10,5))\n",
        "\n",
        "ax1 = fig.add_subplot(1,2,1)\n",
        "ax1.scatter(pred_, label_, color='c', marker='+')\n",
        "ax1.plot([0,1], [0,1], 'r--', linewidth=2)\n",
        "\n",
        "ax2 = fig.add_subplot(1,2,2)\n",
        "ax2.plot(loss_list, 'b:', linewidth = 2, label = 'MSE Loss')\n",
        "\n",
        "plt.legend()"
      ],
      "execution_count": 47,
      "outputs": [
        {
          "output_type": "execute_result",
          "data": {
            "text/plain": [
              "<matplotlib.legend.Legend at 0x7f3301b0f5c0>"
            ]
          },
          "metadata": {
            "tags": []
          },
          "execution_count": 47
        },
        {
          "output_type": "display_data",
          "data": {
            "image/png": "[encoded data removed]",
            "text/plain": [
              "<Figure size 720x360 with 2 Axes>"
            ]
          },
          "metadata": {
            "tags": []
          }
        }
      ]
    }
  ]
}