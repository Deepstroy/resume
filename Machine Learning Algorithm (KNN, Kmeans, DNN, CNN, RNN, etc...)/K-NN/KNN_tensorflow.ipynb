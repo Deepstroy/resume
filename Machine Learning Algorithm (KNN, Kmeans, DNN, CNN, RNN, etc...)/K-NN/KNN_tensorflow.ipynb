{
  "nbformat": 4,
  "nbformat_minor": 0,
  "metadata": {
    "colab": {
      "name": "KNN_numpy.ipynb",
      "version": "0.3.2",
      "provenance": [],
      "collapsed_sections": []
    },
    "kernelspec": {
      "name": "python3",
      "display_name": "Python 3"
    }
  },
  "cells": [
    {
      "cell_type": "markdown",
      "metadata": {
        "id": "JTZA7GnmHh0q",
        "colab_type": "text"
      },
      "source": [
        "#  KNN : 두 Feature의 범위가 상이할 때"
      ]
    },
    {
      "cell_type": "code",
      "metadata": {
        "id": "MFFTmOI6GPue",
        "colab_type": "code",
        "colab": {}
      },
      "source": [
        "%matplotlib inline\n",
        "import numpy as np\n",
        "import tensorflow as tf\n",
        "import matplotlib.pyplot as plt"
      ],
      "execution_count": 0,
      "outputs": []
    },
    {
      "cell_type": "markdown",
      "metadata": {
        "id": "3dKzy487I83e",
        "colab_type": "text"
      },
      "source": [
        "#### 데이터 ) 각 영화 별 웃는 횟수와 우는 횟수\n",
        "\n",
        "| 영화 제목 | the number of smile | The number of cry | Type |\n",
        "| ------  | ----| ----| --- |\n",
        "| A | 120 | 3 | comedy |\n",
        "| B | 105 | 2 | comedy |\n",
        "| C | 25 | 12 | drama |\n",
        "| D | 32 | 15 | drama |\n",
        "| E | 17 | 9  | drama |\n",
        "| F | 98 | 5  | comedy |\n",
        "| G | 130 | 1 | comedy |\n",
        "| H | 0  | 16 | drama  |\n",
        "| I | 40 | 20 | drama |"
      ]
    },
    {
      "cell_type": "code",
      "metadata": {
        "id": "RYkklR4OJbQE",
        "colab_type": "code",
        "colab": {}
      },
      "source": [
        "dataset_ = np.array([\n",
        "    [120, 3],\n",
        "    [105, 2],\n",
        "    [25, 12],\n",
        "    [32, 15],\n",
        "    [17, 9],\n",
        "    [98, 5],\n",
        "    [130, 1],\n",
        "    [0, 16],\n",
        "    [40, 20],\n",
        "    [100, 10]\n",
        "])\n",
        "\n",
        "labels = np.array([\"comedy\", \"comedy\", \"drama\",\n",
        "                   \"drama\",\"drama\",\"comedy\",\"comedy\",\n",
        "                   \"drama\",\"drama\",\"comedy\"])"
      ],
      "execution_count": 0,
      "outputs": []
    },
    {
      "cell_type": "code",
      "metadata": {
        "id": "yUgAcna2Jet9",
        "colab_type": "code",
        "outputId": "e0714979-9ca9-43e4-c66e-6f4f145c02c7",
        "colab": {
          "base_uri": "https://localhost:8080/",
          "height": 295
        }
      },
      "source": [
        "plt.title(\"The Category of Movie\")\n",
        "plt.scatter(dataset[labels==\"comedy\",0],dataset[labels==\"comedy\",1],\n",
        "            label='comedy', c='g')\n",
        "plt.scatter(dataset[labels==\"drama\",0],dataset[labels==\"drama\",1],\n",
        "            label='drama', c='r')\n",
        "\n",
        "plt.xlim(-10,140)\n",
        "plt.ylim(-10,40)\n",
        "\n",
        "plt.xlabel('The number of smile')\n",
        "plt.ylabel('The number of cry')\n",
        "plt.legend()\n",
        "plt.show()"
      ],
      "execution_count": 41,
      "outputs": [
        {
          "output_type": "display_data",
          "data": {
            "image/png": "[encoded data removed]",
            "text/plain": [
              "<Figure size 432x288 with 1 Axes>"
            ]
          },
          "metadata": {
            "tags": []
          }
        }
      ]
    },
    {
      "cell_type": "code",
      "metadata": {
        "id": "xfoawBjU49gP",
        "colab_type": "code",
        "colab": {
          "base_uri": "https://localhost:8080/",
          "height": 34
        },
        "outputId": "06278bfa-38ad-4ab9-c3a4-9aea9fcdee9d"
      },
      "source": [
        "graph = tf.Graph()\n",
        "with graph.as_default():\n",
        "    inX_tf = tf.placeholder(tf.float32, shape=(2), name='inX')\n",
        "    dataset_tf = tf.placeholder(tf.float32, shape=(None,2), name='dataset')\n",
        "    labels_tf = tf.placeholder(tf.string, shape=(None,), name='labels')\n",
        "    K_tf = tf.placeholder_with_default(4,(),name='K')\n",
        "    \n",
        "    tf_sub = tf.subtract(inX_tf, dataset_tf, name=\"sub\")\n",
        "    tf_squ = tf.square(tf_sub, name=\"square\")\n",
        "    tf_sum = tf.reduce_sum(tf_squ, axis=1, name='sum')\n",
        "    tf_sqrt = tf.sqrt(tf_sum, name=\"sqrt\")\n",
        "    \n",
        "    #거리에 대해 인덱스 정렬 반환\n",
        "    arg_sort = tf.argsort(tf_sqrt, axis = -1, name = 'arg_sorted')\n",
        "    \n",
        "    #인덱스 기반 labels_tf 서치\n",
        "    gath_tf = tf.gather(params = labels_tf, indices = arg_sort)\n",
        "    \n",
        "    la_sa = tf.rank(labels_tf)\n",
        "    ar_sa = tf.rank(arg_sort)\n",
        "    slice_tf = gath_tf[:K_tf] #tf.slice(gath_tf, [0], K_tf)   \n",
        "    y, idx, count = tf.unique_with_counts(slice_tf)\n",
        "    output = tf.gather(y, tf.argmax(count))\n",
        "    \n",
        "    with tf.Session(graph = graph) as sess :\n",
        "        sess.run(tf.global_variables_initializer())\n",
        "        y_, output_= sess.run([y, output],  feed_dict={inX_tf:[60,0],\n",
        "                           dataset_tf: dataset,\n",
        "                           labels_tf: labels})\n",
        "        print(output_)"
      ],
      "execution_count": 44,
      "outputs": [
        {
          "output_type": "stream",
          "text": [
            "b'drama'\n"
          ],
          "name": "stdout"
        }
      ]
    },
    {
      "cell_type": "markdown",
      "metadata": {
        "id": "1nw-VB3sJ7je",
        "colab_type": "text"
      },
      "source": [
        "- 우는 횟수가 단 한번도 발생하지 않았지만, 이를 drama로 판단하는 잘못된 결과를 반환함\n",
        "\n",
        "- 로맨스 영화의 특징상 웃는 횟수의 값의 범위와 우는 횟수의 값의 범위가 매우 상이함 => 즉, 각 Feature의 범위가 매우 상이함\n",
        "\n",
        "-  Train 데이터에 대해 Standarization 수행, 이때 test data도 같은 mean, stddev로 scaling수행함\n",
        "\n"
      ]
    },
    {
      "cell_type": "code",
      "metadata": {
        "id": "VRN-pYor5ddf",
        "colab_type": "code",
        "colab": {
          "base_uri": "https://localhost:8080/",
          "height": 34
        },
        "outputId": "df5ad4c4-c869-428b-c389-a272fe0365d1"
      },
      "source": [
        "graph2 = tf.Graph()\n",
        "with graph2.as_default():\n",
        "    inX_tf = tf.placeholder(tf.float32, shape=(2), name='inX')\n",
        "    dataset_tf = tf.placeholder(tf.float32, shape=(None,2), name='dataset')\n",
        "    labels_tf = tf.placeholder(tf.string, shape=(None,), name='labels')\n",
        "    K_tf = tf.placeholder_with_default(4,(),name='K')\n",
        "    \n",
        "    #dataset standardization#\n",
        "    mean_ = tf.reduce_mean(dataset_tf, axis=0)\n",
        "    std_ = tf.math.reduce_std(dataset_tf, axis=0)\n",
        "    dataset_std = (dataset_tf - mean_) / std_       \n",
        "    #input standardization                                        \n",
        "    inX_std = (inX_tf - mean_) / std_\n",
        "    \n",
        "    #거리계산\n",
        "    tf_sub = tf.subtract(inX_std, dataset_std, name=\"sub\")\n",
        "    tf_squ = tf.square(tf_sub, name=\"square\")\n",
        "    tf_sum = tf.reduce_sum(tf_squ, axis=1, name='sum')\n",
        "    tf_sqrt = tf.sqrt(tf_sum, name=\"sqrt\")\n",
        "    \n",
        "    #거리에 대해 인덱스 정렬 반환\n",
        "    arg_sort = tf.argsort(tf_sqrt, axis = -1, name = 'arg_sorted')\n",
        "    \n",
        "    #인덱스 기반 labels_tf 서치\n",
        "    gath_tf = tf.gather(params = labels_tf, indices = arg_sort)\n",
        "    \n",
        "    la_sa = tf.rank(labels_tf)\n",
        "    ar_sa = tf.rank(arg_sort)\n",
        "    slice_tf = gath_tf[:K_tf] #tf.slice(gath_tf, [0], K_tf)   \n",
        "    y, idx, count = tf.unique_with_counts(slice_tf)\n",
        "    output = tf.gather(y, tf.argmax(count))\n",
        "    \n",
        "    with tf.Session(graph = graph2) as sess :\n",
        "        sess.run(tf.global_variables_initializer())\n",
        "        y_, output_= sess.run([y, output],\n",
        "                           feed_dict={inX_tf: [60,0],\n",
        "                           dataset_tf: dataset_,\n",
        "                           labels_tf: labels})\n",
        "        print(output_)"
      ],
      "execution_count": 45,
      "outputs": [
        {
          "output_type": "stream",
          "text": [
            "b'comedy'\n"
          ],
          "name": "stdout"
        }
      ]
    },
    {
      "cell_type": "markdown",
      "metadata": {
        "id": "3bO__nkiLH7h",
        "colab_type": "text"
      },
      "source": [
        "- 정상적으로 comedy 결과 반환"
      ]
    }
  ]
}