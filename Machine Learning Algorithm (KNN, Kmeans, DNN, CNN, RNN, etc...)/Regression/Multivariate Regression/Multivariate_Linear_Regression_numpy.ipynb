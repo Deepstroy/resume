{
  "nbformat": 4,
  "nbformat_minor": 0,
  "metadata": {
    "colab": {
      "name": "Multivariate_Linear_Regression_numpy.ipynb",
      "version": "0.3.2",
      "provenance": [],
      "collapsed_sections": []
    },
    "kernelspec": {
      "name": "python3",
      "display_name": "Python 3"
    }
  },
  "cells": [
    {
      "cell_type": "markdown",
      "metadata": {
        "id": "8Vn3LzktxniN",
        "colab_type": "text"
      },
      "source": [
        "# Multivariate Linear Regression 수행하기\n",
        "- feature의 갯수가 많을때, 즉 독립변수가 2개 이상일때 다변량회귀를 사용하여 regrssion을 수행한다."
      ]
    },
    {
      "cell_type": "code",
      "metadata": {
        "id": "G7GSDHiTyOY3",
        "colab_type": "code",
        "colab": {}
      },
      "source": [
        "%matplotlib inline\n",
        "\n",
        "import numpy as np\n",
        "import pandas as pd\n",
        "import tensorflow as tf \n",
        "import matplotlib.pyplot as plt\n",
        "from sklearn.datasets import load_boston"
      ],
      "execution_count": 0,
      "outputs": []
    },
    {
      "cell_type": "code",
      "metadata": {
        "id": "7KQOEMaLv3hd",
        "colab_type": "code",
        "outputId": "0894b71e-09a3-43c8-df41-e64001998427",
        "colab": {
          "base_uri": "https://localhost:8080/",
          "height": 955
        }
      },
      "source": [
        "# boston dataset 가져오기\n",
        "boston = load_boston()\n",
        "print(boston['DESCR'])"
      ],
      "execution_count": 0,
      "outputs": [
        {
          "output_type": "stream",
          "text": [
            ".. _boston_dataset:\n",
            "\n",
            "Boston house prices dataset\n",
            "---------------------------\n",
            "\n",
            "**Data Set Characteristics:**  \n",
            "\n",
            "    :Number of Instances: 506 \n",
            "\n",
            "    :Number of Attributes: 13 numeric/categorical predictive. Median Value (attribute 14) is usually the target.\n",
            "\n",
            "    :Attribute Information (in order):\n",
            "        - CRIM     per capita crime rate by town\n",
            "        - ZN       proportion of residential land zoned for lots over 25,000 sq.ft.\n",
            "        - INDUS    proportion of non-retail business acres per town\n",
            "        - CHAS     Charles River dummy variable (= 1 if tract bounds river; 0 otherwise)\n",
            "        - NOX      nitric oxides concentration (parts per 10 million)\n",
            "        - RM       average number of rooms per dwelling\n",
            "        - AGE      proportion of owner-occupied units built prior to 1940\n",
            "        - DIS      weighted distances to five Boston employment centres\n",
            "        - RAD      index of accessibility to radial highways\n",
            "        - TAX      full-value property-tax rate per $10,000\n",
            "        - PTRATIO  pupil-teacher ratio by town\n",
            "        - B        1000(Bk - 0.63)^2 where Bk is the proportion of blacks by town\n",
            "        - LSTAT    % lower status of the population\n",
            "        - MEDV     Median value of owner-occupied homes in $1000's\n",
            "\n",
            "    :Missing Attribute Values: None\n",
            "\n",
            "    :Creator: Harrison, D. and Rubinfeld, D.L.\n",
            "\n",
            "This is a copy of UCI ML housing dataset.\n",
            "https://archive.ics.uci.edu/ml/machine-learning-databases/housing/\n",
            "\n",
            "\n",
            "This dataset was taken from the StatLib library which is maintained at Carnegie Mellon University.\n",
            "\n",
            "The Boston house-price data of Harrison, D. and Rubinfeld, D.L. 'Hedonic\n",
            "prices and the demand for clean air', J. Environ. Economics & Management,\n",
            "vol.5, 81-102, 1978.   Used in Belsley, Kuh & Welsch, 'Regression diagnostics\n",
            "...', Wiley, 1980.   N.B. Various transformations are used in the table on\n",
            "pages 244-261 of the latter.\n",
            "\n",
            "The Boston house-price data has been used in many machine learning papers that address regression\n",
            "problems.   \n",
            "     \n",
            ".. topic:: References\n",
            "\n",
            "   - Belsley, Kuh & Welsch, 'Regression diagnostics: Identifying Influential Data and Sources of Collinearity', Wiley, 1980. 244-261.\n",
            "   - Quinlan,R. (1993). Combining Instance-Based and Model-Based Learning. In Proceedings on the Tenth International Conference of Machine Learning, 236-243, University of Massachusetts, Amherst. Morgan Kaufmann.\n",
            "\n"
          ],
          "name": "stdout"
        }
      ]
    },
    {
      "cell_type": "code",
      "metadata": {
        "id": "WKKLeCS1v3hs",
        "colab_type": "code",
        "outputId": "1d89a4cf-7ce9-40fb-c7ee-756582d288f8",
        "colab": {
          "base_uri": "https://localhost:8080/",
          "height": 359
        }
      },
      "source": [
        "boston_df = pd.DataFrame(boston['data'],\n",
        "                         columns=boston['feature_names'])\n",
        "boston_df['house_price'] = boston['target']\n",
        "boston_df.head(10)"
      ],
      "execution_count": 0,
      "outputs": [
        {
          "output_type": "execute_result",
          "data": {
            "text/html": [
              "<div>\n",
              "<style scoped>\n",
              "    .dataframe tbody tr th:only-of-type {\n",
              "        vertical-align: middle;\n",
              "    }\n",
              "\n",
              "    .dataframe tbody tr th {\n",
              "        vertical-align: top;\n",
              "    }\n",
              "\n",
              "    .dataframe thead th {\n",
              "        text-align: right;\n",
              "    }\n",
              "</style>\n",
              "<table border=\"1\" class=\"dataframe\">\n",
              "  <thead>\n",
              "    <tr style=\"text-align: right;\">\n",
              "      <th></th>\n",
              "      <th>CRIM</th>\n",
              "      <th>ZN</th>\n",
              "      <th>INDUS</th>\n",
              "      <th>CHAS</th>\n",
              "      <th>NOX</th>\n",
              "      <th>RM</th>\n",
              "      <th>AGE</th>\n",
              "      <th>DIS</th>\n",
              "      <th>RAD</th>\n",
              "      <th>TAX</th>\n",
              "      <th>PTRATIO</th>\n",
              "      <th>B</th>\n",
              "      <th>LSTAT</th>\n",
              "      <th>house_price</th>\n",
              "    </tr>\n",
              "  </thead>\n",
              "  <tbody>\n",
              "    <tr>\n",
              "      <th>0</th>\n",
              "      <td>0.00632</td>\n",
              "      <td>18.0</td>\n",
              "      <td>2.31</td>\n",
              "      <td>0.0</td>\n",
              "      <td>0.538</td>\n",
              "      <td>6.575</td>\n",
              "      <td>65.2</td>\n",
              "      <td>4.0900</td>\n",
              "      <td>1.0</td>\n",
              "      <td>296.0</td>\n",
              "      <td>15.3</td>\n",
              "      <td>396.90</td>\n",
              "      <td>4.98</td>\n",
              "      <td>24.0</td>\n",
              "    </tr>\n",
              "    <tr>\n",
              "      <th>1</th>\n",
              "      <td>0.02731</td>\n",
              "      <td>0.0</td>\n",
              "      <td>7.07</td>\n",
              "      <td>0.0</td>\n",
              "      <td>0.469</td>\n",
              "      <td>6.421</td>\n",
              "      <td>78.9</td>\n",
              "      <td>4.9671</td>\n",
              "      <td>2.0</td>\n",
              "      <td>242.0</td>\n",
              "      <td>17.8</td>\n",
              "      <td>396.90</td>\n",
              "      <td>9.14</td>\n",
              "      <td>21.6</td>\n",
              "    </tr>\n",
              "    <tr>\n",
              "      <th>2</th>\n",
              "      <td>0.02729</td>\n",
              "      <td>0.0</td>\n",
              "      <td>7.07</td>\n",
              "      <td>0.0</td>\n",
              "      <td>0.469</td>\n",
              "      <td>7.185</td>\n",
              "      <td>61.1</td>\n",
              "      <td>4.9671</td>\n",
              "      <td>2.0</td>\n",
              "      <td>242.0</td>\n",
              "      <td>17.8</td>\n",
              "      <td>392.83</td>\n",
              "      <td>4.03</td>\n",
              "      <td>34.7</td>\n",
              "    </tr>\n",
              "    <tr>\n",
              "      <th>3</th>\n",
              "      <td>0.03237</td>\n",
              "      <td>0.0</td>\n",
              "      <td>2.18</td>\n",
              "      <td>0.0</td>\n",
              "      <td>0.458</td>\n",
              "      <td>6.998</td>\n",
              "      <td>45.8</td>\n",
              "      <td>6.0622</td>\n",
              "      <td>3.0</td>\n",
              "      <td>222.0</td>\n",
              "      <td>18.7</td>\n",
              "      <td>394.63</td>\n",
              "      <td>2.94</td>\n",
              "      <td>33.4</td>\n",
              "    </tr>\n",
              "    <tr>\n",
              "      <th>4</th>\n",
              "      <td>0.06905</td>\n",
              "      <td>0.0</td>\n",
              "      <td>2.18</td>\n",
              "      <td>0.0</td>\n",
              "      <td>0.458</td>\n",
              "      <td>7.147</td>\n",
              "      <td>54.2</td>\n",
              "      <td>6.0622</td>\n",
              "      <td>3.0</td>\n",
              "      <td>222.0</td>\n",
              "      <td>18.7</td>\n",
              "      <td>396.90</td>\n",
              "      <td>5.33</td>\n",
              "      <td>36.2</td>\n",
              "    </tr>\n",
              "    <tr>\n",
              "      <th>5</th>\n",
              "      <td>0.02985</td>\n",
              "      <td>0.0</td>\n",
              "      <td>2.18</td>\n",
              "      <td>0.0</td>\n",
              "      <td>0.458</td>\n",
              "      <td>6.430</td>\n",
              "      <td>58.7</td>\n",
              "      <td>6.0622</td>\n",
              "      <td>3.0</td>\n",
              "      <td>222.0</td>\n",
              "      <td>18.7</td>\n",
              "      <td>394.12</td>\n",
              "      <td>5.21</td>\n",
              "      <td>28.7</td>\n",
              "    </tr>\n",
              "    <tr>\n",
              "      <th>6</th>\n",
              "      <td>0.08829</td>\n",
              "      <td>12.5</td>\n",
              "      <td>7.87</td>\n",
              "      <td>0.0</td>\n",
              "      <td>0.524</td>\n",
              "      <td>6.012</td>\n",
              "      <td>66.6</td>\n",
              "      <td>5.5605</td>\n",
              "      <td>5.0</td>\n",
              "      <td>311.0</td>\n",
              "      <td>15.2</td>\n",
              "      <td>395.60</td>\n",
              "      <td>12.43</td>\n",
              "      <td>22.9</td>\n",
              "    </tr>\n",
              "    <tr>\n",
              "      <th>7</th>\n",
              "      <td>0.14455</td>\n",
              "      <td>12.5</td>\n",
              "      <td>7.87</td>\n",
              "      <td>0.0</td>\n",
              "      <td>0.524</td>\n",
              "      <td>6.172</td>\n",
              "      <td>96.1</td>\n",
              "      <td>5.9505</td>\n",
              "      <td>5.0</td>\n",
              "      <td>311.0</td>\n",
              "      <td>15.2</td>\n",
              "      <td>396.90</td>\n",
              "      <td>19.15</td>\n",
              "      <td>27.1</td>\n",
              "    </tr>\n",
              "    <tr>\n",
              "      <th>8</th>\n",
              "      <td>0.21124</td>\n",
              "      <td>12.5</td>\n",
              "      <td>7.87</td>\n",
              "      <td>0.0</td>\n",
              "      <td>0.524</td>\n",
              "      <td>5.631</td>\n",
              "      <td>100.0</td>\n",
              "      <td>6.0821</td>\n",
              "      <td>5.0</td>\n",
              "      <td>311.0</td>\n",
              "      <td>15.2</td>\n",
              "      <td>386.63</td>\n",
              "      <td>29.93</td>\n",
              "      <td>16.5</td>\n",
              "    </tr>\n",
              "    <tr>\n",
              "      <th>9</th>\n",
              "      <td>0.17004</td>\n",
              "      <td>12.5</td>\n",
              "      <td>7.87</td>\n",
              "      <td>0.0</td>\n",
              "      <td>0.524</td>\n",
              "      <td>6.004</td>\n",
              "      <td>85.9</td>\n",
              "      <td>6.5921</td>\n",
              "      <td>5.0</td>\n",
              "      <td>311.0</td>\n",
              "      <td>15.2</td>\n",
              "      <td>386.71</td>\n",
              "      <td>17.10</td>\n",
              "      <td>18.9</td>\n",
              "    </tr>\n",
              "  </tbody>\n",
              "</table>\n",
              "</div>"
            ],
            "text/plain": [
              "      CRIM    ZN  INDUS  CHAS  ...  PTRATIO       B  LSTAT  house_price\n",
              "0  0.00632  18.0   2.31   0.0  ...     15.3  396.90   4.98         24.0\n",
              "1  0.02731   0.0   7.07   0.0  ...     17.8  396.90   9.14         21.6\n",
              "2  0.02729   0.0   7.07   0.0  ...     17.8  392.83   4.03         34.7\n",
              "3  0.03237   0.0   2.18   0.0  ...     18.7  394.63   2.94         33.4\n",
              "4  0.06905   0.0   2.18   0.0  ...     18.7  396.90   5.33         36.2\n",
              "5  0.02985   0.0   2.18   0.0  ...     18.7  394.12   5.21         28.7\n",
              "6  0.08829  12.5   7.87   0.0  ...     15.2  395.60  12.43         22.9\n",
              "7  0.14455  12.5   7.87   0.0  ...     15.2  396.90  19.15         27.1\n",
              "8  0.21124  12.5   7.87   0.0  ...     15.2  386.63  29.93         16.5\n",
              "9  0.17004  12.5   7.87   0.0  ...     15.2  386.71  17.10         18.9\n",
              "\n",
              "[10 rows x 14 columns]"
            ]
          },
          "metadata": {
            "tags": []
          },
          "execution_count": 3
        }
      ]
    },
    {
      "cell_type": "markdown",
      "metadata": {
        "id": "CBiAN7vhyg97",
        "colab_type": "text"
      },
      "source": [
        "### 데이터 분포확인"
      ]
    },
    {
      "cell_type": "code",
      "metadata": {
        "id": "BnLuwqKOv3iY",
        "colab_type": "code",
        "outputId": "28f0f764-7b0f-4d19-9999-0ea8986a19b2",
        "colab": {
          "base_uri": "https://localhost:8080/",
          "height": 287
        }
      },
      "source": [
        "max_value = boston_df.max()\n",
        "min_value = boston_df.min()\n",
        "min_value # 각 Feature 별 최솟값"
      ],
      "execution_count": 0,
      "outputs": [
        {
          "output_type": "execute_result",
          "data": {
            "text/plain": [
              "CRIM             0.00632\n",
              "ZN               0.00000\n",
              "INDUS            0.46000\n",
              "CHAS             0.00000\n",
              "NOX              0.38500\n",
              "RM               3.56100\n",
              "AGE              2.90000\n",
              "DIS              1.12960\n",
              "RAD              1.00000\n",
              "TAX            187.00000\n",
              "PTRATIO         12.60000\n",
              "B                0.32000\n",
              "LSTAT            1.73000\n",
              "house_price      5.00000\n",
              "dtype: float64"
            ]
          },
          "metadata": {
            "tags": []
          },
          "execution_count": 4
        }
      ]
    },
    {
      "cell_type": "markdown",
      "metadata": {
        "id": "tAAY1QwAydES",
        "colab_type": "text"
      },
      "source": [
        "### Min-Max scaling 수행"
      ]
    },
    {
      "cell_type": "code",
      "metadata": {
        "id": "0wyBNsk2v3it",
        "colab_type": "code",
        "outputId": "b270eb20-078a-4b2b-c1a6-733d0d37b4a3",
        "colab": {
          "base_uri": "https://localhost:8080/",
          "height": 297
        }
      },
      "source": [
        "minmax_df = (boston_df - min_value)/(max_value-min_value)\n",
        "minmax_df.describe()"
      ],
      "execution_count": 0,
      "outputs": [
        {
          "output_type": "execute_result",
          "data": {
            "text/html": [
              "<div>\n",
              "<style scoped>\n",
              "    .dataframe tbody tr th:only-of-type {\n",
              "        vertical-align: middle;\n",
              "    }\n",
              "\n",
              "    .dataframe tbody tr th {\n",
              "        vertical-align: top;\n",
              "    }\n",
              "\n",
              "    .dataframe thead th {\n",
              "        text-align: right;\n",
              "    }\n",
              "</style>\n",
              "<table border=\"1\" class=\"dataframe\">\n",
              "  <thead>\n",
              "    <tr style=\"text-align: right;\">\n",
              "      <th></th>\n",
              "      <th>CRIM</th>\n",
              "      <th>ZN</th>\n",
              "      <th>INDUS</th>\n",
              "      <th>CHAS</th>\n",
              "      <th>NOX</th>\n",
              "      <th>RM</th>\n",
              "      <th>AGE</th>\n",
              "      <th>DIS</th>\n",
              "      <th>RAD</th>\n",
              "      <th>TAX</th>\n",
              "      <th>PTRATIO</th>\n",
              "      <th>B</th>\n",
              "      <th>LSTAT</th>\n",
              "      <th>house_price</th>\n",
              "    </tr>\n",
              "  </thead>\n",
              "  <tbody>\n",
              "    <tr>\n",
              "      <th>count</th>\n",
              "      <td>506.000000</td>\n",
              "      <td>506.000000</td>\n",
              "      <td>506.000000</td>\n",
              "      <td>506.000000</td>\n",
              "      <td>506.000000</td>\n",
              "      <td>506.000000</td>\n",
              "      <td>506.000000</td>\n",
              "      <td>506.000000</td>\n",
              "      <td>506.000000</td>\n",
              "      <td>506.000000</td>\n",
              "      <td>506.000000</td>\n",
              "      <td>506.000000</td>\n",
              "      <td>506.000000</td>\n",
              "      <td>506.000000</td>\n",
              "    </tr>\n",
              "    <tr>\n",
              "      <th>mean</th>\n",
              "      <td>0.040544</td>\n",
              "      <td>0.113636</td>\n",
              "      <td>0.391378</td>\n",
              "      <td>0.069170</td>\n",
              "      <td>0.349167</td>\n",
              "      <td>0.521869</td>\n",
              "      <td>0.676364</td>\n",
              "      <td>0.242381</td>\n",
              "      <td>0.371713</td>\n",
              "      <td>0.422208</td>\n",
              "      <td>0.622929</td>\n",
              "      <td>0.898568</td>\n",
              "      <td>0.301409</td>\n",
              "      <td>0.389618</td>\n",
              "    </tr>\n",
              "    <tr>\n",
              "      <th>std</th>\n",
              "      <td>0.096679</td>\n",
              "      <td>0.233225</td>\n",
              "      <td>0.251479</td>\n",
              "      <td>0.253994</td>\n",
              "      <td>0.238431</td>\n",
              "      <td>0.134627</td>\n",
              "      <td>0.289896</td>\n",
              "      <td>0.191482</td>\n",
              "      <td>0.378576</td>\n",
              "      <td>0.321636</td>\n",
              "      <td>0.230313</td>\n",
              "      <td>0.230205</td>\n",
              "      <td>0.197049</td>\n",
              "      <td>0.204380</td>\n",
              "    </tr>\n",
              "    <tr>\n",
              "      <th>min</th>\n",
              "      <td>0.000000</td>\n",
              "      <td>0.000000</td>\n",
              "      <td>0.000000</td>\n",
              "      <td>0.000000</td>\n",
              "      <td>0.000000</td>\n",
              "      <td>0.000000</td>\n",
              "      <td>0.000000</td>\n",
              "      <td>0.000000</td>\n",
              "      <td>0.000000</td>\n",
              "      <td>0.000000</td>\n",
              "      <td>0.000000</td>\n",
              "      <td>0.000000</td>\n",
              "      <td>0.000000</td>\n",
              "      <td>0.000000</td>\n",
              "    </tr>\n",
              "    <tr>\n",
              "      <th>25%</th>\n",
              "      <td>0.000851</td>\n",
              "      <td>0.000000</td>\n",
              "      <td>0.173387</td>\n",
              "      <td>0.000000</td>\n",
              "      <td>0.131687</td>\n",
              "      <td>0.445392</td>\n",
              "      <td>0.433831</td>\n",
              "      <td>0.088259</td>\n",
              "      <td>0.130435</td>\n",
              "      <td>0.175573</td>\n",
              "      <td>0.510638</td>\n",
              "      <td>0.945730</td>\n",
              "      <td>0.144040</td>\n",
              "      <td>0.267222</td>\n",
              "    </tr>\n",
              "    <tr>\n",
              "      <th>50%</th>\n",
              "      <td>0.002812</td>\n",
              "      <td>0.000000</td>\n",
              "      <td>0.338343</td>\n",
              "      <td>0.000000</td>\n",
              "      <td>0.314815</td>\n",
              "      <td>0.507281</td>\n",
              "      <td>0.768280</td>\n",
              "      <td>0.188949</td>\n",
              "      <td>0.173913</td>\n",
              "      <td>0.272901</td>\n",
              "      <td>0.686170</td>\n",
              "      <td>0.986232</td>\n",
              "      <td>0.265728</td>\n",
              "      <td>0.360000</td>\n",
              "    </tr>\n",
              "    <tr>\n",
              "      <th>75%</th>\n",
              "      <td>0.041258</td>\n",
              "      <td>0.125000</td>\n",
              "      <td>0.646628</td>\n",
              "      <td>0.000000</td>\n",
              "      <td>0.491770</td>\n",
              "      <td>0.586798</td>\n",
              "      <td>0.938980</td>\n",
              "      <td>0.369088</td>\n",
              "      <td>1.000000</td>\n",
              "      <td>0.914122</td>\n",
              "      <td>0.808511</td>\n",
              "      <td>0.998298</td>\n",
              "      <td>0.420116</td>\n",
              "      <td>0.444444</td>\n",
              "    </tr>\n",
              "    <tr>\n",
              "      <th>max</th>\n",
              "      <td>1.000000</td>\n",
              "      <td>1.000000</td>\n",
              "      <td>1.000000</td>\n",
              "      <td>1.000000</td>\n",
              "      <td>1.000000</td>\n",
              "      <td>1.000000</td>\n",
              "      <td>1.000000</td>\n",
              "      <td>1.000000</td>\n",
              "      <td>1.000000</td>\n",
              "      <td>1.000000</td>\n",
              "      <td>1.000000</td>\n",
              "      <td>1.000000</td>\n",
              "      <td>1.000000</td>\n",
              "      <td>1.000000</td>\n",
              "    </tr>\n",
              "  </tbody>\n",
              "</table>\n",
              "</div>"
            ],
            "text/plain": [
              "             CRIM          ZN       INDUS  ...           B       LSTAT  house_price\n",
              "count  506.000000  506.000000  506.000000  ...  506.000000  506.000000   506.000000\n",
              "mean     0.040544    0.113636    0.391378  ...    0.898568    0.301409     0.389618\n",
              "std      0.096679    0.233225    0.251479  ...    0.230205    0.197049     0.204380\n",
              "min      0.000000    0.000000    0.000000  ...    0.000000    0.000000     0.000000\n",
              "25%      0.000851    0.000000    0.173387  ...    0.945730    0.144040     0.267222\n",
              "50%      0.002812    0.000000    0.338343  ...    0.986232    0.265728     0.360000\n",
              "75%      0.041258    0.125000    0.646628  ...    0.998298    0.420116     0.444444\n",
              "max      1.000000    1.000000    1.000000  ...    1.000000    1.000000     1.000000\n",
              "\n",
              "[8 rows x 14 columns]"
            ]
          },
          "metadata": {
            "tags": []
          },
          "execution_count": 5
        }
      ]
    },
    {
      "cell_type": "markdown",
      "metadata": {
        "id": "RZV9JRWhyCXe",
        "colab_type": "text"
      },
      "source": [
        "### (1) 손실 함수 정의\n",
        "$$\n",
        "Loss(W) = \\frac{1}{2m}\\sum_{i=1}^{m}(\\hat y - y)^2 = \\frac{1}{2m}\\sum_{i=1}^{m}(X^{(i)} \\cdot W^T - y^{(i)})^2\n",
        "$$"
      ]
    },
    {
      "cell_type": "code",
      "metadata": {
        "id": "3w6cBIQ5zfoB",
        "colab_type": "code",
        "colab": {}
      },
      "source": [
        "# Dataframe에서 독립변수와 종속변수 가져오기\n",
        "X = minmax_df.values[:,:-1]\n",
        "y = minmax_df.values[:,-1]\n",
        "X = np.concatenate([np.ones([506,1]),X],axis=1)\n",
        "y = y.reshape(-1,1) \n",
        "W = np.random.normal(size=[14,1])"
      ],
      "execution_count": 0,
      "outputs": []
    },
    {
      "cell_type": "code",
      "metadata": {
        "id": "kRhkXCdk1BG0",
        "colab_type": "code",
        "outputId": "6a78f056-056f-4b2c-a085-83acaf4cbe1a",
        "colab": {
          "base_uri": "https://localhost:8080/",
          "height": 35
        }
      },
      "source": [
        "#손실함수 정의\n",
        "mse = np.mean((np.matmul(X,W)-y)**2)\n",
        "mse"
      ],
      "execution_count": 0,
      "outputs": [
        {
          "output_type": "execute_result",
          "data": {
            "text/plain": [
              "0.43553101936340965"
            ]
          },
          "metadata": {
            "tags": []
          },
          "execution_count": 7
        }
      ]
    },
    {
      "cell_type": "markdown",
      "metadata": {
        "id": "oEGRDmoCzx6z",
        "colab_type": "text"
      },
      "source": [
        "예측함수를 코드로 구현하면 아래와 같다.\n",
        "$$\n",
        "\\hat y = X\\cdot W^T\n",
        "$$"
      ]
    },
    {
      "cell_type": "code",
      "metadata": {
        "id": "zkuJphxwzxj0",
        "colab_type": "code",
        "colab": {}
      },
      "source": [
        "y_pred = np.matmul(X,W)"
      ],
      "execution_count": 0,
      "outputs": []
    },
    {
      "cell_type": "markdown",
      "metadata": {
        "id": "SRYppHO3zW5N",
        "colab_type": "text"
      },
      "source": [
        "### (2) 미분 함수 정의\n",
        "​\n",
        "이에 따른 각 미분 함수는 아래와 같이 구한다.\n",
        "<br> 벡터의 미분을 수행하는것으로 회귀구현에 있어서 중요한 key point이다.\n",
        "​\n",
        "$$\n",
        "\\frac{\\partial Loss}{\\partial w_0} = \\frac{1}{m}\\sum_{i=1}^{m}(X^{(i)} \\cdot W^T - y^{(i)})$$ <br> $$\n",
        "\\frac{\\partial Loss}{\\partial w_1} = \\frac{1}{m}\\sum_{i=1}^{m}(X^{(i)} \\cdot W^T - y^{(i)})x_1^{(i)}$$ <br>$$\n",
        "\\frac{\\partial Loss}{\\partial w_2} = \\frac{1}{m}\\sum_{i=1}^{m}(X^{(i)} \\cdot W^T - y^{(i)})x_2^{(i)}$$ <br>$$\n",
        "\\cdots \n",
        "\\frac{\\partial Loss}{\\partial w_{13}} = \\frac{1}{m}\\sum_{i=1}^{m}(X^{(i)} \\cdot W^T - y^{(i)})x_{13}^{(i)}\n",
        "$$\n",
        "​\n",
        "위 또한 매트릭스로 나타내면 아래와 같이 나낸다. <br> \n",
        "$$\n",
        "\\frac{\\partial Loss}{\\partial W} =  \\frac{1}{m}\\sum_{i=1}^{m}(X^{(i)} \\cdot W^T - y^{(i)})X^{(i)}\n",
        "$$"
      ]
    },
    {
      "cell_type": "code",
      "metadata": {
        "id": "Oahtlc-wudHE",
        "colab_type": "code",
        "colab": {}
      },
      "source": [
        "delta_W = np.mean((np.matmul(X,W)-y)*X,axis=0)"
      ],
      "execution_count": 0,
      "outputs": []
    },
    {
      "cell_type": "markdown",
      "metadata": {
        "id": "Y659C7ddv3lw",
        "colab_type": "text"
      },
      "source": [
        "선형 회귀에서 적용했던 방식과 마찬가지로 아래의 수식을 적용하여 기울기 감소법을 수행한다.\n",
        "\n",
        "$$\n",
        "W_{new} = W_{old} - \\alpha * \\frac{\\partial loss}{\\partial W} \n",
        "$$\n",
        "\n",
        "학습률과 학습횟수는 아래와 같이 정한다.\n",
        "\n",
        "1. learning Rate : 0.5\n",
        "2. Epoch : 300"
      ]
    },
    {
      "cell_type": "code",
      "metadata": {
        "id": "ObWy5HDTv3lx",
        "colab_type": "code",
        "colab": {}
      },
      "source": [
        "# 갱신된 weight와 mse 저장\n",
        "weight_history = [W]\n",
        "mse_history = [mse]\n",
        "\n",
        "alpha = 5e-1 # 학습률\n",
        "epoch = 300\n",
        "\n",
        "for i in range(epoch):\n",
        "    # 이전 가중치 가져오기\n",
        "    old_W = weight_history[-1]\n",
        "    \n",
        "    # 미분값 갱신\n",
        "    dW = np.mean((np.matmul(X,old_W)-y)*X,axis=0)\n",
        "    dW = dW.reshape(-1,1) # broadcasting 방지\n",
        "\n",
        "    # 경사하강법을 통한 가중치 갱신\n",
        "    new_W = old_W - alpha * dW\n",
        "    new_mse = np.mean((np.matmul(X,new_W)-y)**2)\n",
        "\n",
        "    # 결과 저장\n",
        "    weight_history.append(new_W)\n",
        "    mse_history.append(new_mse)"
      ],
      "execution_count": 0,
      "outputs": []
    },
    {
      "cell_type": "markdown",
      "metadata": {
        "id": "2qkpRrdl0krK",
        "colab_type": "text"
      },
      "source": [
        "### Loss함수의 history를 그려본다."
      ]
    },
    {
      "cell_type": "code",
      "metadata": {
        "id": "0nMpjJ5-v3l3",
        "colab_type": "code",
        "outputId": "a8f78b89-3417-4f39-b9e3-d3ce733919d4",
        "colab": {
          "base_uri": "https://localhost:8080/",
          "height": 281
        }
      },
      "source": [
        "plt.title(\"Loss Function\")\n",
        "plt.plot(mse_history)\n",
        "plt.show()"
      ],
      "execution_count": 0,
      "outputs": [
        {
          "output_type": "display_data",
          "data": {
            "image/png": "[encoded data removed]",
            "text/plain": [
              "<Figure size 432x288 with 1 Axes>"
            ]
          },
          "metadata": {
            "tags": []
          }
        }
      ]
    },
    {
      "cell_type": "markdown",
      "metadata": {
        "id": "YyGU4aYJv3l9",
        "colab_type": "text"
      },
      "source": [
        "### 정답과 비교하여 완벽하게 예측하진 못하지만, 어느정도 근사하는것을 볼 수 있다."
      ]
    },
    {
      "cell_type": "code",
      "metadata": {
        "id": "BaeatKw3v3l-",
        "colab_type": "code",
        "colab": {}
      },
      "source": [
        "new_W = weight_history[-1]\n",
        "y_pred = np.matmul(X,new_W)"
      ],
      "execution_count": 0,
      "outputs": []
    },
    {
      "cell_type": "code",
      "metadata": {
        "id": "7bfP6mm4v3mD",
        "colab_type": "code",
        "outputId": "7dae2b7e-477e-4bf4-8bea-ed9c8cd5beaf",
        "colab": {
          "base_uri": "https://localhost:8080/",
          "height": 283
        }
      },
      "source": [
        "result_df = pd.DataFrame(np.concatenate([y,y_pred], axis=1),\n",
        "                         columns=['True','Pred'])\n",
        "\n",
        "result_df.plot('True','Pred',kind='scatter',\n",
        "               xlim=[-0.2,1.5],ylim=[-0.2,1.5])\n",
        "plt.plot([-0.2,1.5],[-0.2,1.5],color='r')\n",
        "plt.show()"
      ],
      "execution_count": 0,
      "outputs": [
        {
          "output_type": "display_data",
          "data": {
            "image/png": "[encoded data removed]",
            "text/plain": [
              "<Figure size 432x288 with 1 Axes>"
            ]
          },
          "metadata": {
            "tags": []
          }
        }
      ]
    }
  ]
}