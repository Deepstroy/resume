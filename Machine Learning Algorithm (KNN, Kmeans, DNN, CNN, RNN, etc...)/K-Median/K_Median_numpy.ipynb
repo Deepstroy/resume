{
  "nbformat": 4,
  "nbformat_minor": 0,
  "metadata": {
    "colab": {
      "name": "K_Median_numpy.ipynb",
      "version": "0.3.2",
      "provenance": [],
      "collapsed_sections": []
    },
    "kernelspec": {
      "name": "python3",
      "display_name": "Python 3"
    }
  },
  "cells": [
    {
      "cell_type": "markdown",
      "metadata": {
        "id": "W7F_uiqYzPVt",
        "colab_type": "text"
      },
      "source": [
        "# K Median clustering"
      ]
    },
    {
      "cell_type": "markdown",
      "metadata": {
        "id": "G4QpauieUg85",
        "colab_type": "text"
      },
      "source": [
        "- K-Menas에서는 데이터의 평균을 사용하기 때문에 outlier에 민감한 모델임을 실험을 통해 알아봤습니다.\n",
        "<br>\n",
        "- 이번에는 데이터의 중간값(median)을 사용하여 centroids를 계산하여 군집화를 진행하겠습니다."
      ]
    },
    {
      "cell_type": "code",
      "metadata": {
        "id": "2t3rkZiLzPVv",
        "colab_type": "code",
        "colab": {}
      },
      "source": [
        "%matplotlib inline\n",
        "import numpy as np\n",
        "import matplotlib.pyplot as plt"
      ],
      "execution_count": 0,
      "outputs": []
    },
    {
      "cell_type": "markdown",
      "metadata": {
        "id": "Hhr7c3lWzPVy",
        "colab_type": "text"
      },
      "source": [
        "## 예제 데이터 )  이상값이 존재하는 데이터셋"
      ]
    },
    {
      "cell_type": "code",
      "metadata": {
        "id": "GCuOmeWSzPVz",
        "colab_type": "code",
        "outputId": "6a741239-1165-45e1-8e77-fa99096c43b1",
        "colab": {
          "base_uri": "https://localhost:8080/",
          "height": 223
        }
      },
      "source": [
        "# 예제 데이터 셋 \n",
        "!wget https://s3.ap-northeast-2.amazonaws.com/pai-datasets/alai-deeplearning/kmedian_dataset.csv\n",
        "dataset = np.loadtxt(\"./kmedian_dataset.csv\",delimiter=',')"
      ],
      "execution_count": 5,
      "outputs": [
        {
          "output_type": "stream",
          "text": [
            "--2019-06-11 11:35:37--  https://s3.ap-northeast-2.amazonaws.com/pai-datasets/alai-deeplearning/kmedian_dataset.csv\n",
            "Resolving s3.ap-northeast-2.amazonaws.com (s3.ap-northeast-2.amazonaws.com)... 52.219.58.65\n",
            "Connecting to s3.ap-northeast-2.amazonaws.com (s3.ap-northeast-2.amazonaws.com)|52.219.58.65|:443... connected.\n",
            "HTTP request sent, awaiting response... 200 OK\n",
            "Length: 546 [text/csv]\n",
            "Saving to: ‘kmedian_dataset.csv.2’\n",
            "\n",
            "kmedian_dataset.csv 100%[===================>]     546  --.-KB/s    in 0s      \n",
            "\n",
            "2019-06-11 11:35:38 (23.4 MB/s) - ‘kmedian_dataset.csv.2’ saved [546/546]\n",
            "\n"
          ],
          "name": "stdout"
        }
      ]
    },
    {
      "cell_type": "code",
      "metadata": {
        "id": "QqqwS20QzPV3",
        "colab_type": "code",
        "outputId": "7b411eeb-e56c-4455-d86c-70b5d05ef46d",
        "colab": {
          "base_uri": "https://localhost:8080/",
          "height": 281
        }
      },
      "source": [
        "# 예제 데이터셋 시각화\n",
        "plt.title(\"The Distribution of Point\")\n",
        "plt.scatter(dataset[:,0], dataset[:,1])\n",
        "plt.show()"
      ],
      "execution_count": 6,
      "outputs": [
        {
          "output_type": "display_data",
          "data": {
            "image/png": "[encoded data removed]",
            "text/plain": [
              "<Figure size 432x288 with 1 Axes>"
            ]
          },
          "metadata": {
            "tags": []
          }
        }
      ]
    },
    {
      "cell_type": "markdown",
      "metadata": {
        "id": "NKaiQs0xzPWA",
        "colab_type": "text"
      },
      "source": [
        "## K-median 알고리즘 <br>\n",
        "####K-median 구현또한 아래 사항이 중요한 Keypoint이다. <br>\n",
        "1. Broadcast를 사용하여 각 centroids별 dataset과의 거리 구함\n",
        "<br>( 3차원에서 centroid는 axis=0으로 broadcast, dataset은 axis=1로 broadcast된다)\n",
        "2. argmin연산을 통해 최소거리 군집의 index를 얻기<br>\n",
        "."
      ]
    },
    {
      "cell_type": "code",
      "metadata": {
        "id": "RPHYRS8bzPWB",
        "colab_type": "code",
        "colab": {}
      },
      "source": [
        "def cluster_Kmedian(dataset, k):    \n",
        "    # 중심점 초기화\n",
        "    # 데이터의 범위를 지정\n",
        "    min_x = dataset[:,0].min()\n",
        "    max_x = dataset[:,0].max() \n",
        "    min_y = dataset[:,1].min()\n",
        "    max_y = dataset[:,1].max() \n",
        "\n",
        "    #Uniform distribution을 통해 임의의 center_x와 center_y를 구함\n",
        "    # 이때, K개 만큼 생성함\n",
        "    center_x = np.random.uniform(low=min_x, high=max_x, size=k)\n",
        "    center_y = np.random.uniform(low=min_y, high=max_y, size=k)\n",
        "    \n",
        "    #임의의 central point를 생성\n",
        "    centroids = np.stack([center_x,center_y],axis=-1)\n",
        "    \n",
        "    # (2) ~ (5) 순회\n",
        "    num_data = dataset.shape[0]\n",
        "    cluster_per_point = np.zeros((num_data)) # 각 점 별 군집\n",
        "\n",
        "    counter = 0\n",
        "    while True:\n",
        "        prev_cluster_per_point = cluster_per_point\n",
        "        \n",
        "        # (2) 거리 계산\n",
        "        # Broad Casting 을 사용한 Numpy연산\n",
        "        # Dataset과 centroids의 shape을 유념한다.\n",
        "        # 3차원에서 centroid는 axis=0으로 broadcast, dataset은 axis=1로 broadcast된다\n",
        "        diff_mat = (centroids.reshape(-1,1,2) - dataset.reshape(1,-1,2))\n",
        "        dists = np.sqrt((diff_mat**2).sum(axis=-1))\n",
        "        \n",
        "        # (3) 각 K개의 centroid들마다 dataset과의 거리중 가장 작은 index 구함(argmin)\n",
        "        cluster_per_point = dists.argmin(axis=0)\n",
        "        \n",
        "        # (4) 각 군집 별 점들의 중간값 median을 계산 후, 군집의 중심점을 다시 계산\n",
        "        # 이번에도 A[index_배열] = A의 해당 index의 값들이 return됨이 중요함\n",
        "        for i in range(k):\n",
        "            centroids[i] = np.median( dataset[cluster_per_point==i], axis=0) # np.median연산\n",
        "            \n",
        "        if np.all(prev_cluster_per_point == cluster_per_point):\n",
        "            break\n",
        "\n",
        "        counter += 1\n",
        "        plt.title(\"{}th Distribution of Dataset\".format(counter))\n",
        "        for idx, color in enumerate(['r','g','b','y']):\n",
        "            mask = (cluster_per_point==idx)\n",
        "            plt.scatter(dataset[mask,0],dataset[mask,1],\n",
        "                        label='dataset', c=color)\n",
        "            plt.scatter(centroids[:,0],centroids[:,1],\n",
        "                        s=200, label=\"centroid\", marker='+')\n",
        "        plt.show()\n",
        "    \n",
        "    return centroids"
      ],
      "execution_count": 0,
      "outputs": []
    },
    {
      "cell_type": "code",
      "metadata": {
        "id": "q2JgXLC6zPWE",
        "colab_type": "code",
        "outputId": "6ee9dfd1-9523-48e3-892f-b61d461e39f4",
        "colab": {
          "base_uri": "https://localhost:8080/",
          "height": 847
        }
      },
      "source": [
        "# k = 2일때 시각화를 통한 군집확인\n",
        "cluster_Kmedian(dataset,2)"
      ],
      "execution_count": 13,
      "outputs": [
        {
          "output_type": "display_data",
          "data": {
            "image/png": "[encoded data removed]",
            "text/plain": [
              "<Figure size 432x288 with 1 Axes>"
            ]
          },
          "metadata": {
            "tags": []
          }
        },
        {
          "output_type": "display_data",
          "data": {
            "image/png": "[encoded data removed]",
            "text/plain": [
              "<Figure size 432x288 with 1 Axes>"
            ]
          },
          "metadata": {
            "tags": []
          }
        },
        {
          "output_type": "display_data",
          "data": {
            "image/png": "[encoded data removed]",
            "text/plain": [
              "<Figure size 432x288 with 1 Axes>"
            ]
          },
          "metadata": {
            "tags": []
          }
        },
        {
          "output_type": "execute_result",
          "data": {
            "text/plain": [
              "array([[138.5,  50. ],\n",
              "       [ 55. , 190. ]])"
            ]
          },
          "metadata": {
            "tags": []
          },
          "execution_count": 13
        }
      ]
    },
    {
      "cell_type": "markdown",
      "metadata": {
        "id": "Cdorm4ulzPWL",
        "colab_type": "text"
      },
      "source": [
        "# Result and conclusion\n",
        "- __데이터 사이의 중간값을 사용하는 K-Median을 사용 했기 때문에 해당 데이터세트의 noise에는 덜 민감한 모델__\n",
        "- 그러나 모든 데이터도메인에서 중간값계산이 robust한 모델인지는 보증할 수 없음.\n",
        "- __데이터의 사전 분석을 수행하고 그에 따른 알맞는 모델을 찾는것이 중요하다.__\n",
        "\n",
        "\n"
      ]
    }
  ]
}