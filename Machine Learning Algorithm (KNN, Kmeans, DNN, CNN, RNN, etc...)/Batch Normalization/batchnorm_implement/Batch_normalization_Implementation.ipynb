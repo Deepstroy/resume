{
  "nbformat": 4,
  "nbformat_minor": 0,
  "metadata": {
    "colab": {
      "name": "Batch normalization Implementation.ipynb",
      "version": "0.3.2",
      "provenance": [],
      "collapsed_sections": []
    },
    "kernelspec": {
      "name": "python3",
      "display_name": "Python 3"
    }
  },
  "cells": [
    {
      "cell_type": "markdown",
      "metadata": {
        "id": "mbe3HPmDqnUE",
        "colab_type": "text"
      },
      "source": [
        "#Batch normalization Implementation in MNIST"
      ]
    },
    {
      "cell_type": "markdown",
      "metadata": {
        "id": "LY4ZOjbtqxu9",
        "colab_type": "text"
      },
      "source": [
        "- Batch normalization을 사용하여 Mnist dataset을 학습한다.\n",
        "- Batch normalizatoin을 사용하지 않은 모델과 결과를 비교해 본다."
      ]
    },
    {
      "cell_type": "code",
      "metadata": {
        "id": "91FCNy170Uk5",
        "colab_type": "code",
        "colab": {}
      },
      "source": [
        "%matplotlib inline\n",
        "import numpy as np\n",
        "import matplotlib.pyplot as plt\n",
        "\n",
        "from tqdm import tqdm\n",
        "import tensorflow as tf\n",
        "import cv2"
      ],
      "execution_count": 0,
      "outputs": []
    },
    {
      "cell_type": "markdown",
      "metadata": {
        "id": "c2KNBm1X3hOC",
        "colab_type": "text"
      },
      "source": [
        "- Batch normalization wrapper 함수 선언"
      ]
    },
    {
      "cell_type": "code",
      "metadata": {
        "id": "seI-gVytz-yv",
        "colab_type": "code",
        "colab": {}
      },
      "source": [
        "def batch_normalization(inputs, is_train, decay=0.999, epsilon=1e-5):    \n",
        "    #input shape의 feature size측정\n",
        "    sizes = inputs.get_shape()[-1]\n",
        "    \n",
        "    #test를 위한 moving average를 계산위함, 초기값은 0으로 지정 : tf.zeros\n",
        "    test_mean = tf.Variable(tf.zeros([sizes]), name = 'test_mean')\n",
        "    test_var = tf.Variable(tf.zeros([sizes]), name = 'test_var')\n",
        "    \n",
        "    # featuare갯수만큼 scale factor와 shiftf factor\n",
        "    gamma = tf.Variable(tf.ones(sizes), name='scale_factor')\n",
        "    beta = tf.Variable(tf.zeros(sizes), name='shift_factor')\n",
        "\n",
        "    def train():\n",
        "        mean, var = tf.nn.moments(inputs, [0])\n",
        "        updated_mean = tf.assign(test_mean, \n",
        "                                 (((1-decay) * mean) + (decay*(test_mean))))\n",
        "        updated_var = tf.assign(test_var,\n",
        "                                (((1-decay) * var) + (decay*(test_var))))\n",
        "        \n",
        "        with tf.control_dependencies([updated_mean ,updated_var]) :\n",
        "            xs_bn = tf.nn.batch_normalization(inputs, mean, var, \n",
        "                                              beta, gamma, epsilon)\n",
        "            \n",
        "            #xs_norm = (xs - mean) /tf.sqrt(var+eps)\n",
        "            #xs_bn = (xs_norm * gamma) + beta\n",
        "            \n",
        "            return xs_bn    \n",
        "    \n",
        "    def test():\n",
        "        #test할때나 train할때나 beta gamma는 동일함\n",
        "        #xs_norm = (xs - test_mean) / tf.sqrt(test_var+eps)\n",
        "        #xs_bn = (xs_norm*gamma) + beta\n",
        "        #high api사용\n",
        "        xs_bn = tf.nn.batch_normalization(inputs, test_mean, test_var,\n",
        "                                          beta, gamma, epsilon)\n",
        "        \n",
        "        return xs_bn\n",
        "        \n",
        "    xs_bn = tf.cond(is_train, train, test)\n",
        "    \n",
        "    return xs_bn"
      ],
      "execution_count": 0,
      "outputs": []
    },
    {
      "cell_type": "markdown",
      "metadata": {
        "id": "EZvJgP5Z0ZmA",
        "colab_type": "text"
      },
      "source": [
        "- MNIST load하기"
      ]
    },
    {
      "cell_type": "code",
      "metadata": {
        "id": "xpIqou4D0YxT",
        "colab_type": "code",
        "colab": {
          "base_uri": "https://localhost:8080/",
          "height": 401
        },
        "outputId": "a773974f-ec05-47f2-9fe9-f288d4cdf0c3"
      },
      "source": [
        "from tensorflow.examples.tutorials.mnist import input_data\n",
        "mnist = input_data.read_data_sets('mnist/',one_hot=False)"
      ],
      "execution_count": 3,
      "outputs": [
        {
          "output_type": "stream",
          "text": [
            "WARNING: Logging before flag parsing goes to stderr.\n",
            "W0626 17:41:06.221261 140224608143232 deprecation.py:323] From <ipython-input-3-219623c18e16>:2: read_data_sets (from tensorflow.contrib.learn.python.learn.datasets.mnist) is deprecated and will be removed in a future version.\n",
            "Instructions for updating:\n",
            "Please use alternatives such as official/mnist/dataset.py from tensorflow/models.\n",
            "W0626 17:41:06.223013 140224608143232 deprecation.py:323] From /usr/local/lib/python3.6/dist-packages/tensorflow/contrib/learn/python/learn/datasets/mnist.py:260: maybe_download (from tensorflow.contrib.learn.python.learn.datasets.base) is deprecated and will be removed in a future version.\n",
            "Instructions for updating:\n",
            "Please write your own downloading logic.\n",
            "W0626 17:41:06.223962 140224608143232 deprecation.py:323] From /usr/local/lib/python3.6/dist-packages/tensorflow/contrib/learn/python/learn/datasets/mnist.py:262: extract_images (from tensorflow.contrib.learn.python.learn.datasets.mnist) is deprecated and will be removed in a future version.\n",
            "Instructions for updating:\n",
            "Please use tf.data to implement this functionality.\n"
          ],
          "name": "stderr"
        },
        {
          "output_type": "stream",
          "text": [
            "Extracting mnist/train-images-idx3-ubyte.gz\n"
          ],
          "name": "stdout"
        },
        {
          "output_type": "stream",
          "text": [
            "W0626 17:41:06.507084 140224608143232 deprecation.py:323] From /usr/local/lib/python3.6/dist-packages/tensorflow/contrib/learn/python/learn/datasets/mnist.py:267: extract_labels (from tensorflow.contrib.learn.python.learn.datasets.mnist) is deprecated and will be removed in a future version.\n",
            "Instructions for updating:\n",
            "Please use tf.data to implement this functionality.\n",
            "W0626 17:41:06.558336 140224608143232 deprecation.py:323] From /usr/local/lib/python3.6/dist-packages/tensorflow/contrib/learn/python/learn/datasets/mnist.py:290: DataSet.__init__ (from tensorflow.contrib.learn.python.learn.datasets.mnist) is deprecated and will be removed in a future version.\n",
            "Instructions for updating:\n",
            "Please use alternatives such as official/mnist/dataset.py from tensorflow/models.\n"
          ],
          "name": "stderr"
        },
        {
          "output_type": "stream",
          "text": [
            "Extracting mnist/train-labels-idx1-ubyte.gz\n",
            "Extracting mnist/t10k-images-idx3-ubyte.gz\n",
            "Extracting mnist/t10k-labels-idx1-ubyte.gz\n"
          ],
          "name": "stdout"
        }
      ]
    },
    {
      "cell_type": "code",
      "metadata": {
        "id": "z1VNro8I0hj-",
        "colab_type": "code",
        "colab": {}
      },
      "source": [
        "train_set = mnist.train\n",
        "valid_set = mnist.validation\n",
        "test_set = mnist.test"
      ],
      "execution_count": 0,
      "outputs": []
    },
    {
      "cell_type": "markdown",
      "metadata": {
        "id": "0xUX7HU70gml",
        "colab_type": "text"
      },
      "source": [
        "## Batch normalization 없는 모델로 MINST학습해보기"
      ]
    },
    {
      "cell_type": "code",
      "metadata": {
        "id": "GCkDEjnC0pxz",
        "colab_type": "code",
        "colab": {
          "base_uri": "https://localhost:8080/",
          "height": 92
        },
        "outputId": "9132dba4-85d3-48a6-816f-6ea94b48a01f"
      },
      "source": [
        "graph = tf.Graph()\n",
        "with graph.as_default():\n",
        "    xs = tf.placeholder(dtype = tf.float32, shape=[None,784])\n",
        "    la = tf.placeholder(dtype = tf.int32, shape=[None,])\n",
        "    lr = 0.0001\n",
        "    \n",
        "    layer1 = tf.layers.Dense(units = 1500, activation = tf.nn.relu,\n",
        "                             use_bias=False,\n",
        "                             kernel_initializer=tf.initializers.he_normal())(xs)\n",
        "    layer2 = tf.layers.Dense(units = 500, activation = tf.nn.relu,\n",
        "                             use_bias=True,\n",
        "                             kernel_initializer=tf.initializers.he_normal(),\n",
        "                             bias_initializer=tf.initializers.zeros)(layer1)\n",
        "    layer3 = tf.layers.Dense(units = 100, activation = tf.nn.relu,\n",
        "                             use_bias=False,\n",
        "                             kernel_initializer=tf.initializers.he_normal(),\n",
        "                            bias_initializer=tf.initializers.zeros)(layer2)\n",
        "    layer4 = tf.layers.Dense(units = 10, activation = None,\n",
        "                             use_bias=False,\n",
        "                             kernel_initializer=tf.initializers.he_normal(),\n",
        "                            bias_initializer=tf.initializers.zeros)(layer3)\n",
        "    \n",
        "    loss = tf.losses.sparse_softmax_cross_entropy(la, layer4)\n",
        "    trian_op = tf.train.AdamOptimizer(lr).minimize(loss)"
      ],
      "execution_count": 5,
      "outputs": [
        {
          "output_type": "stream",
          "text": [
            "W0626 17:41:07.170989 140224608143232 deprecation.py:323] From /usr/local/lib/python3.6/dist-packages/tensorflow/python/ops/losses/losses_impl.py:121: add_dispatch_support.<locals>.wrapper (from tensorflow.python.ops.array_ops) is deprecated and will be removed in a future version.\n",
            "Instructions for updating:\n",
            "Use tf.where in 2.0, which has the same broadcast rule as np.where\n"
          ],
          "name": "stderr"
        }
      ]
    },
    {
      "cell_type": "code",
      "metadata": {
        "id": "IXwO-5Mo0rvG",
        "colab_type": "code",
        "colab": {
          "base_uri": "https://localhost:8080/",
          "height": 199
        },
        "outputId": "175a8692-181c-49b0-9521-60f893e73bce"
      },
      "source": [
        "num_epoch = 100\n",
        "num_batch = 60\n",
        "num_step = train_set.num_examples // num_batch\n",
        "\n",
        "acc_history_without_bn = []\n",
        "\n",
        "with graph.as_default():\n",
        "    sess = tf.Session(graph=graph)\n",
        "    sess.run([tf.global_variables_initializer()])\n",
        "    \n",
        "    for epoch in range(num_epoch):\n",
        "        da, lab = train_set.next_batch(num_batch)\n",
        "        _, loss_ = sess.run([trian_op, loss],\n",
        "                            feed_dict = {xs : da,\n",
        "                                        la : lab})\n",
        "        if epoch % 10 == 0 :\n",
        "            print(loss_)\n",
        "        acc_history_without_bn.append(loss_)"
      ],
      "execution_count": 6,
      "outputs": [
        {
          "output_type": "stream",
          "text": [
            "2.5211272\n",
            "1.8639576\n",
            "1.428736\n",
            "1.0832905\n",
            "0.8033156\n",
            "0.6441187\n",
            "0.43896312\n",
            "0.4992115\n",
            "0.7062502\n",
            "0.28772742\n"
          ],
          "name": "stdout"
        }
      ]
    },
    {
      "cell_type": "markdown",
      "metadata": {
        "id": "6lRl2Lj-00ZI",
        "colab_type": "text"
      },
      "source": [
        "- 시각화하기"
      ]
    },
    {
      "cell_type": "code",
      "metadata": {
        "id": "N9yEdasA0yZB",
        "colab_type": "code",
        "colab": {
          "base_uri": "https://localhost:8080/",
          "height": 287
        },
        "outputId": "597594c9-07d8-4b6a-cf1f-c5d116e9f8a4"
      },
      "source": [
        "plt.plot(acc_history_without_bn, 'r--')"
      ],
      "execution_count": 7,
      "outputs": [
        {
          "output_type": "execute_result",
          "data": {
            "text/plain": [
              "[<matplotlib.lines.Line2D at 0x7f88494d4358>]"
            ]
          },
          "metadata": {
            "tags": []
          },
          "execution_count": 7
        },
        {
          "output_type": "display_data",
          "data": {
            "image/png": "[encoded data removed]",
            "text/plain": [
              "<Figure size 432x288 with 1 Axes>"
            ]
          },
          "metadata": {
            "tags": []
          }
        }
      ]
    },
    {
      "cell_type": "markdown",
      "metadata": {
        "id": "cb0iokP81Fff",
        "colab_type": "text"
      },
      "source": [
        "## Batch normalization 적용한 모델로 MINST학습하기"
      ]
    },
    {
      "cell_type": "markdown",
      "metadata": {
        "id": "hHYqijtW1YTl",
        "colab_type": "text"
      },
      "source": [
        "- Batch normalization을 사용한 dense network를 구현한다"
      ]
    },
    {
      "cell_type": "code",
      "metadata": {
        "id": "s1on8qQcmvGg",
        "colab_type": "code",
        "colab": {}
      },
      "source": [
        "def dense_bn_relu(inputs, is_train, filters, name='dense'):\n",
        "    # (1) Logit 계산 -> (2) Batch Normalization 적용 -> (3) 활성화함수 \n",
        "    # 순으로 연산하는 메소드\n",
        "        layer = tf.layers.Dense(filters, use_bias=False)(inputs)\n",
        "        bn = batch_normalization(layer, is_train)\n",
        "        \n",
        "        return tf.nn.relu(bn)"
      ],
      "execution_count": 0,
      "outputs": []
    },
    {
      "cell_type": "code",
      "metadata": {
        "id": "GsHOvlUPmvGi",
        "colab_type": "code",
        "outputId": "a155763f-6291-4b2f-cbff-e981a9193883",
        "colab": {
          "base_uri": "https://localhost:8080/",
          "height": 92
        }
      },
      "source": [
        "graph = tf.Graph()\n",
        "with graph.as_default():\n",
        "    xs = tf.placeholder(dtype = tf.float32, shape=[None,784])\n",
        "    la = tf.placeholder(dtype = tf.int32, shape=[None,])\n",
        "    lr = 0.0001\n",
        "    is_train =  tf.placeholder(dtype = tf.bool)\n",
        "    \n",
        "    layer1 = tf.layers.Dense(units = 1500, activation = tf.nn.relu,\n",
        "                             use_bias=False,\n",
        "                             kernel_initializer=tf.initializers.he_normal())(xs)\n",
        "    \n",
        "    bn_layer2 = dense_bn_relu(layer1, is_train, 500)\n",
        "    bn_layer3 = dense_bn_relu(bn_layer2, is_train, 100)\n",
        "    layer4 = tf.layers.Dense(10, activation=None ,use_bias=False)(bn_layer3)    \n",
        "    \n",
        "    loss = tf.losses.sparse_softmax_cross_entropy(la, layer4)\n",
        "    train_op = tf.train.AdamOptimizer(lr).minimize(loss)"
      ],
      "execution_count": 9,
      "outputs": [
        {
          "output_type": "stream",
          "text": [
            "W0626 17:41:10.142095 140224608143232 deprecation.py:506] From /usr/local/lib/python3.6/dist-packages/tensorflow/python/ops/init_ops.py:1251: calling VarianceScaling.__init__ (from tensorflow.python.ops.init_ops) with dtype is deprecated and will be removed in a future version.\n",
            "Instructions for updating:\n",
            "Call initializer instance with the dtype argument instead of passing it to the constructor\n"
          ],
          "name": "stderr"
        }
      ]
    },
    {
      "cell_type": "code",
      "metadata": {
        "id": "5t0-OyZlmvGj",
        "colab_type": "code",
        "outputId": "fbaf7b8d-f4ac-42d1-db2b-c15664614a47",
        "colab": {
          "base_uri": "https://localhost:8080/",
          "height": 199
        }
      },
      "source": [
        "num_epoch = 100\n",
        "num_batch = 60\n",
        "num_step = train_set.num_examples // num_batch\n",
        "\n",
        "acc_history_with_bn = []\n",
        "\n",
        "with graph.as_default():\n",
        "    sess2 = tf.Session()\n",
        "    sess2.run(tf.global_variables_initializer())\n",
        "    for i in range(num_epoch) :\n",
        "        da, lab = train_set.next_batch(num_batch)\n",
        "        _, loss_ = sess2.run([train_op, loss], feed_dict = {xs : da,\n",
        "                                                la : lab,\n",
        "                                                is_train : True})\n",
        "        acc_history_with_bn.append(loss_)\n",
        "        if i % 10 == 0 :\n",
        "            print(loss_)"
      ],
      "execution_count": 10,
      "outputs": [
        {
          "output_type": "stream",
          "text": [
            "3.071334\n",
            "1.511061\n",
            "0.98626477\n",
            "0.7577753\n",
            "0.6855252\n",
            "0.75739163\n",
            "0.76143926\n",
            "0.6102547\n",
            "0.5185818\n",
            "0.6468473\n"
          ],
          "name": "stdout"
        }
      ]
    },
    {
      "cell_type": "markdown",
      "metadata": {
        "id": "0EkyC6t13okm",
        "colab_type": "text"
      },
      "source": [
        "- 두 모델의 loss 함수 변화를 시각화"
      ]
    },
    {
      "cell_type": "code",
      "metadata": {
        "id": "-g2vvigPmvGl",
        "colab_type": "code",
        "outputId": "4352d1bc-4d8b-41b1-f95d-a47e4e56010f",
        "colab": {
          "base_uri": "https://localhost:8080/",
          "height": 269
        }
      },
      "source": [
        "plt.plot(acc_history_with_bn, label='with_bn',color='r', linestyle=':')\n",
        "plt.plot(acc_history_without_bn, label='without_bn', color = 'b', linestyle=':')\n",
        "plt.legend()\n",
        "plt.show()"
      ],
      "execution_count": 11,
      "outputs": [
        {
          "output_type": "display_data",
          "data": {
            "image/png": "[encoded data removed]",
            "text/plain": [
              "<Figure size 432x288 with 1 Axes>"
            ]
          },
          "metadata": {
            "tags": []
          }
        }
      ]
    },
    {
      "cell_type": "markdown",
      "metadata": {
        "id": "5VnZ-NTg3Fo6",
        "colab_type": "text"
      },
      "source": [
        "배치노말 레이어가 있었을 때, 훨씬 더 빠르게 수렴함을 알 수 있다."
      ]
    }
  ]
}